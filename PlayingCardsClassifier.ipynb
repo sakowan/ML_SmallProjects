{
  "metadata": {
    "kernelspec": {
      "language": "python",
      "display_name": "Python 3",
      "name": "python3"
    },
    "language_info": {
      "pygments_lexer": "ipython3",
      "nbconvert_exporter": "python",
      "version": "3.6.4",
      "file_extension": ".py",
      "codemirror_mode": {
        "name": "ipython",
        "version": 3
      },
      "name": "python",
      "mimetype": "text/x-python"
    },
    "kaggle": {
      "accelerator": "gpu",
      "dataSources": [
        {
          "sourceId": 4532039,
          "sourceType": "datasetVersion",
          "datasetId": 2579480
        }
      ],
      "dockerImageVersionId": 30558,
      "isInternetEnabled": false,
      "language": "python",
      "sourceType": "notebook",
      "isGpuEnabled": true
    },
    "colab": {
      "provenance": []
    }
  },
  "nbformat_minor": 0,
  "nbformat": 4,
  "cells": [
    {
      "source": [
        "# import kagglehub\n",
        "# gpiosenka_cards_image_datasetclassification_path = kagglehub.dataset_download('gpiosenka/cards-image-datasetclassification')\n",
        "\n",
        "# print('Data source import complete.')\n"
      ],
      "metadata": {
        "id": "s50r9iQJgEPK"
      },
      "cell_type": "code",
      "outputs": [],
      "execution_count": null
    },
    {
      "cell_type": "markdown",
      "source": [
        "Phases:\n",
        "\n",
        "We will tackle this problem in 3 parts:\n",
        "1. Pytorch Dataset\n",
        "2. Pytorch Model\n",
        "3. Pytorch Training Loop\n",
        "\n",
        "Almost every pytorch model training pipeline meets this paradigm."
      ],
      "metadata": {
        "_uuid": "8f2839f25d086af736a60e9eeb907d3b93b6e0e5",
        "_cell_guid": "b1076dfc-b9ad-4769-8c92-a6c4dae69d19",
        "id": "OSob8r5SgEPM"
      }
    },
    {
      "cell_type": "code",
      "source": [
        "import torch\n",
        "import torch.nn as nn\n",
        "import torch.optim as optim\n",
        "from torch.utils.data import Dataset, DataLoader\n",
        "import torchvision\n",
        "import torchvision.transforms as transforms\n",
        "from torchvision.datasets import ImageFolder\n",
        "import timm\n",
        "\n",
        "import matplotlib.pyplot as plt # For data viz\n",
        "import pandas as pd\n",
        "import numpy as np\n",
        "import sys\n",
        "from tqdm.notebook import tqdm\n",
        "\n",
        "print('System Version:', sys.version)\n",
        "print('PyTorch version', torch.__version__)\n",
        "print('Torchvision version', torchvision.__version__)\n",
        "print('Numpy version', np.__version__)\n",
        "print('Pandas version', pd.__version__)"
      ],
      "metadata": {
        "execution": {
          "iopub.status.busy": "2023-10-05T20:22:50.788771Z",
          "iopub.execute_input": "2023-10-05T20:22:50.789493Z",
          "iopub.status.idle": "2023-10-05T20:22:57.071516Z",
          "shell.execute_reply.started": "2023-10-05T20:22:50.789465Z",
          "shell.execute_reply": "2023-10-05T20:22:57.070606Z"
        },
        "trusted": true,
        "id": "hOwlI_GPgEPN"
      },
      "outputs": [],
      "execution_count": null
    },
    {
      "cell_type": "markdown",
      "source": [
        "# Step 1. Pytorch Dataset (and Dataloader)\n",
        "\n",
        "Would you learn how to bake a cake without first having the ingredients? No.\n",
        "\n",
        "The same thing can be said for training a pytorch model without first having the dataset setup correctly.\n",
        "\n",
        "This is why datasets are important:\n",
        "- It's an organized way to structure how the data and labels are loaded into the model.\n",
        "- We can then wrap the dataset in a dataloader and pytorch will handle batching the shuffling the data for us when training the model!"
      ],
      "metadata": {
        "id": "g8C_dxXGgEPO"
      }
    },
    {
      "cell_type": "code",
      "source": [
        "class PlayingCardDataset(Dataset):\n",
        "    def __init__(self, data_dir, transform=None):\n",
        "        self.data = ImageFolder(data_dir, transform=transform)\n",
        "\n",
        "    def __len__(self):\n",
        "        return len(self.data)\n",
        "\n",
        "    def __getitem__(self, idx):\n",
        "        return self.data[idx]\n",
        "\n",
        "    @property\n",
        "    def classes(self):\n",
        "        return self.data.classes"
      ],
      "metadata": {
        "execution": {
          "iopub.status.busy": "2023-10-05T20:22:57.073353Z",
          "iopub.execute_input": "2023-10-05T20:22:57.073844Z",
          "iopub.status.idle": "2023-10-05T20:22:57.078932Z",
          "shell.execute_reply.started": "2023-10-05T20:22:57.073812Z",
          "shell.execute_reply": "2023-10-05T20:22:57.077933Z"
        },
        "trusted": true,
        "id": "pMGw44otgEPO"
      },
      "outputs": [],
      "execution_count": null
    },
    {
      "cell_type": "markdown",
      "source": [
        "## Create Test Dataset"
      ],
      "metadata": {
        "id": "9pGuCHB0gEPO"
      }
    },
    {
      "cell_type": "code",
      "source": [
        "dataset = PlayingCardDataset(\n",
        "    data_dir='/kaggle/input/cards-image-datasetclassification/train'\n",
        ")"
      ],
      "metadata": {
        "execution": {
          "iopub.status.busy": "2023-10-05T20:22:57.080248Z",
          "iopub.execute_input": "2023-10-05T20:22:57.080872Z",
          "iopub.status.idle": "2023-10-05T20:23:53.590343Z",
          "shell.execute_reply.started": "2023-10-05T20:22:57.080843Z",
          "shell.execute_reply": "2023-10-05T20:23:53.589318Z"
        },
        "trusted": true,
        "id": "PObxkeSWgEPO"
      },
      "outputs": [],
      "execution_count": null
    },
    {
      "cell_type": "code",
      "source": [
        "len(dataset)"
      ],
      "metadata": {
        "execution": {
          "iopub.status.busy": "2023-10-05T20:23:53.592683Z",
          "iopub.execute_input": "2023-10-05T20:23:53.593623Z",
          "iopub.status.idle": "2023-10-05T20:23:53.601045Z",
          "shell.execute_reply.started": "2023-10-05T20:23:53.593589Z",
          "shell.execute_reply": "2023-10-05T20:23:53.600045Z"
        },
        "trusted": true,
        "id": "nURgktCigEPP"
      },
      "outputs": [],
      "execution_count": null
    },
    {
      "cell_type": "code",
      "source": [
        "image, label = dataset[6000]\n",
        "print(label)\n",
        "image"
      ],
      "metadata": {
        "execution": {
          "iopub.status.busy": "2023-10-05T20:23:53.602492Z",
          "iopub.execute_input": "2023-10-05T20:23:53.603156Z",
          "iopub.status.idle": "2023-10-05T20:23:53.65526Z",
          "shell.execute_reply.started": "2023-10-05T20:23:53.603121Z",
          "shell.execute_reply": "2023-10-05T20:23:53.65446Z"
        },
        "trusted": true,
        "id": "X7btSLwQgEPP"
      },
      "outputs": [],
      "execution_count": null
    },
    {
      "cell_type": "code",
      "source": [
        "# Get a dictionary associating target values with folder names\n",
        "data_dir = '/kaggle/input/cards-image-datasetclassification/train'\n",
        "target_to_class = {v: k for k, v in ImageFolder(data_dir).class_to_idx.items()}\n",
        "print(target_to_class)"
      ],
      "metadata": {
        "execution": {
          "iopub.status.busy": "2023-10-05T20:23:53.656445Z",
          "iopub.execute_input": "2023-10-05T20:23:53.656965Z",
          "iopub.status.idle": "2023-10-05T20:23:53.729509Z",
          "shell.execute_reply.started": "2023-10-05T20:23:53.656936Z",
          "shell.execute_reply": "2023-10-05T20:23:53.728608Z"
        },
        "trusted": true,
        "id": "T3E6F710gEPP"
      },
      "outputs": [],
      "execution_count": null
    },
    {
      "cell_type": "code",
      "source": [
        "transform = transforms.Compose([\n",
        "    transforms.Resize((128, 128)),\n",
        "    transforms.ToTensor(),\n",
        "])\n",
        "\n",
        "data_dir = '/kaggle/input/cards-image-datasetclassification/train'\n",
        "dataset = PlayingCardDataset(data_dir, transform)"
      ],
      "metadata": {
        "execution": {
          "iopub.status.busy": "2023-10-05T20:23:53.730678Z",
          "iopub.execute_input": "2023-10-05T20:23:53.73116Z",
          "iopub.status.idle": "2023-10-05T20:23:53.790459Z",
          "shell.execute_reply.started": "2023-10-05T20:23:53.731129Z",
          "shell.execute_reply": "2023-10-05T20:23:53.789657Z"
        },
        "trusted": true,
        "id": "9SCOKGgFgEPP"
      },
      "outputs": [],
      "execution_count": null
    },
    {
      "cell_type": "code",
      "source": [
        "image, label = dataset[100]\n",
        "image.shape"
      ],
      "metadata": {
        "execution": {
          "iopub.status.busy": "2023-10-05T20:23:53.791648Z",
          "iopub.execute_input": "2023-10-05T20:23:53.79206Z",
          "iopub.status.idle": "2023-10-05T20:23:53.862965Z",
          "shell.execute_reply.started": "2023-10-05T20:23:53.792029Z",
          "shell.execute_reply": "2023-10-05T20:23:53.861967Z"
        },
        "trusted": true,
        "id": "uYRKNhEtgEPP"
      },
      "outputs": [],
      "execution_count": null
    },
    {
      "cell_type": "code",
      "source": [
        "# iterate over dataset\n",
        "for image, label in dataset:\n",
        "    break"
      ],
      "metadata": {
        "execution": {
          "iopub.status.busy": "2023-10-05T20:23:53.864169Z",
          "iopub.execute_input": "2023-10-05T20:23:53.864994Z",
          "iopub.status.idle": "2023-10-05T20:23:53.878208Z",
          "shell.execute_reply.started": "2023-10-05T20:23:53.86496Z",
          "shell.execute_reply": "2023-10-05T20:23:53.877342Z"
        },
        "trusted": true,
        "id": "5ydqIqNLgEPQ"
      },
      "outputs": [],
      "execution_count": null
    },
    {
      "cell_type": "markdown",
      "source": [
        "## Dataloaders\n",
        "\n",
        "- Batching our dataset\n",
        "- It's faster to train the model in batches instead of one at a time."
      ],
      "metadata": {
        "id": "E6DVcRE6gEPQ"
      }
    },
    {
      "cell_type": "code",
      "source": [
        "dataloader = DataLoader(dataset, batch_size=32, shuffle=True)"
      ],
      "metadata": {
        "execution": {
          "iopub.status.busy": "2023-10-05T20:23:53.881814Z",
          "iopub.execute_input": "2023-10-05T20:23:53.882081Z",
          "iopub.status.idle": "2023-10-05T20:23:53.886944Z",
          "shell.execute_reply.started": "2023-10-05T20:23:53.882059Z",
          "shell.execute_reply": "2023-10-05T20:23:53.885945Z"
        },
        "trusted": true,
        "id": "JG_J9jkDgEPQ"
      },
      "outputs": [],
      "execution_count": null
    },
    {
      "cell_type": "code",
      "source": [
        "for images, labels in dataloader:\n",
        "    break"
      ],
      "metadata": {
        "execution": {
          "iopub.status.busy": "2023-10-05T20:23:53.888564Z",
          "iopub.execute_input": "2023-10-05T20:23:53.888955Z",
          "iopub.status.idle": "2023-10-05T20:23:54.182882Z",
          "shell.execute_reply.started": "2023-10-05T20:23:53.888924Z",
          "shell.execute_reply": "2023-10-05T20:23:54.181905Z"
        },
        "trusted": true,
        "id": "pH48QxsDgEPQ"
      },
      "outputs": [],
      "execution_count": null
    },
    {
      "cell_type": "code",
      "source": [
        "images.shape, labels.shape"
      ],
      "metadata": {
        "execution": {
          "iopub.status.busy": "2023-10-05T20:23:54.184322Z",
          "iopub.execute_input": "2023-10-05T20:23:54.18494Z",
          "iopub.status.idle": "2023-10-05T20:23:54.191109Z",
          "shell.execute_reply.started": "2023-10-05T20:23:54.184908Z",
          "shell.execute_reply": "2023-10-05T20:23:54.190102Z"
        },
        "trusted": true,
        "id": "a7eEOXzwgEPQ"
      },
      "outputs": [],
      "execution_count": null
    },
    {
      "cell_type": "code",
      "source": [
        "labels"
      ],
      "metadata": {
        "execution": {
          "iopub.status.busy": "2023-10-05T20:23:54.192712Z",
          "iopub.execute_input": "2023-10-05T20:23:54.19331Z",
          "iopub.status.idle": "2023-10-05T20:23:54.204737Z",
          "shell.execute_reply.started": "2023-10-05T20:23:54.193278Z",
          "shell.execute_reply": "2023-10-05T20:23:54.203685Z"
        },
        "trusted": true,
        "id": "vOOHobxMgEPQ"
      },
      "outputs": [],
      "execution_count": null
    },
    {
      "cell_type": "markdown",
      "source": [
        "# Step 2. Pytorch Model\n",
        "\n",
        "Pytorch datasets have a structured way of organizing your data, pytorch models follow a similar paradigm.\n",
        "- We could create the model from scratch defining each layer.\n",
        "- However for tasks like image classification, many of the state of the art architectures are readily available and we can import them from packages like timm.\n",
        "- Understanding the pytorch model is all about understanding the shape the data is at each layer, and the main one we need to modify for a task is the final layer. Here we have 53 targets, so we will modify the last layer for this.\n"
      ],
      "metadata": {
        "id": "as2gVtJKgEPQ"
      }
    },
    {
      "cell_type": "code",
      "source": [
        "class SimpleCardClassifer(nn.Module):\n",
        "    def __init__(self, num_classes=53):\n",
        "        super(SimpleCardClassifer, self).__init__()\n",
        "        # Where we define all the parts of the model\n",
        "        self.base_model = timm.create_model('efficientnet_b0', pretrained=True)\n",
        "        self.features = nn.Sequential(*list(self.base_model.children())[:-1])\n",
        "\n",
        "        enet_out_size = 1280\n",
        "        # Make a classifier\n",
        "        self.classifier = nn.Sequential(\n",
        "            nn.Flatten(),\n",
        "            nn.Linear(enet_out_size, num_classes)\n",
        "        )\n",
        "\n",
        "    def forward(self, x):\n",
        "        # Connect these parts and return the output\n",
        "        x = self.features(x)\n",
        "        output = self.classifier(x)\n",
        "        return output\n"
      ],
      "metadata": {
        "execution": {
          "iopub.status.busy": "2023-10-05T20:23:54.206119Z",
          "iopub.execute_input": "2023-10-05T20:23:54.206825Z",
          "iopub.status.idle": "2023-10-05T20:23:54.213829Z",
          "shell.execute_reply.started": "2023-10-05T20:23:54.206796Z",
          "shell.execute_reply": "2023-10-05T20:23:54.212881Z"
        },
        "trusted": true,
        "id": "97tTdL27gEPQ"
      },
      "outputs": [],
      "execution_count": null
    },
    {
      "cell_type": "code",
      "source": [
        "model = SimpleCardClassifer(num_classes=53)\n",
        "print(str(model)[:500])"
      ],
      "metadata": {
        "execution": {
          "iopub.status.busy": "2023-10-05T20:23:54.214857Z",
          "iopub.execute_input": "2023-10-05T20:23:54.215237Z",
          "iopub.status.idle": "2023-10-05T20:23:54.910047Z",
          "shell.execute_reply.started": "2023-10-05T20:23:54.215207Z",
          "shell.execute_reply": "2023-10-05T20:23:54.909064Z"
        },
        "trusted": true,
        "id": "TXKNkX4BgEPQ"
      },
      "outputs": [],
      "execution_count": null
    },
    {
      "cell_type": "code",
      "source": [
        "example_out = model(images)\n",
        "example_out.shape # [batch_size, num_classes]"
      ],
      "metadata": {
        "execution": {
          "iopub.status.busy": "2023-10-05T20:23:54.911197Z",
          "iopub.execute_input": "2023-10-05T20:23:54.91198Z",
          "iopub.status.idle": "2023-10-05T20:23:56.345511Z",
          "shell.execute_reply.started": "2023-10-05T20:23:54.911948Z",
          "shell.execute_reply": "2023-10-05T20:23:56.344396Z"
        },
        "trusted": true,
        "id": "kUmaMjzfgEPQ"
      },
      "outputs": [],
      "execution_count": null
    },
    {
      "cell_type": "markdown",
      "source": [
        "# Step 3. The training loop\n",
        "\n",
        "- Now that we understand the general paradigm of pytorch datasets and models, we need to create the process of training this model.\n",
        "- Some things to consider: We want to validate our model on data it has not been trained on, so usually we split our data into a train and validate datasets (I have whole videos on this). This is easy because we can just create two datasets using our existing class.\n",
        "    - Terms:\n",
        "        - Epoch: One run through the entire training dataset.\n",
        "        - Step: One batch of data as defined in our dataloader\n",
        "- This loop is one you will become familiar with when training models, you load in data to the model in batches - then calculate the loss and perform backpropagation. There are packages that package this for you, but it's good to have at least written it once to understand how it works.\n",
        "- Two things to select:\n",
        "    - optimizer, `adam` is the best place to start for most tasks.\n",
        "    - loss function: What the model will optimize for.\n"
      ],
      "metadata": {
        "id": "xrudmabHgEPQ"
      }
    },
    {
      "cell_type": "code",
      "source": [
        "# Loss function\n",
        "criterion = nn.CrossEntropyLoss()\n",
        "# Optimizer\n",
        "optimizer = optim.Adam(model.parameters(), lr=0.001)"
      ],
      "metadata": {
        "execution": {
          "iopub.status.busy": "2023-10-05T20:24:10.287312Z",
          "iopub.execute_input": "2023-10-05T20:24:10.287635Z",
          "iopub.status.idle": "2023-10-05T20:24:10.292883Z",
          "shell.execute_reply.started": "2023-10-05T20:24:10.287612Z",
          "shell.execute_reply": "2023-10-05T20:24:10.29189Z"
        },
        "trusted": true,
        "id": "apP6CiD2gEPR"
      },
      "outputs": [],
      "execution_count": null
    },
    {
      "cell_type": "code",
      "source": [
        "criterion(example_out, labels)\n",
        "print(example_out.shape, labels.shape)"
      ],
      "metadata": {
        "execution": {
          "iopub.status.busy": "2023-10-05T20:24:10.294214Z",
          "iopub.execute_input": "2023-10-05T20:24:10.294821Z",
          "iopub.status.idle": "2023-10-05T20:24:10.30741Z",
          "shell.execute_reply.started": "2023-10-05T20:24:10.294772Z",
          "shell.execute_reply": "2023-10-05T20:24:10.306497Z"
        },
        "trusted": true,
        "id": "v0plPNprgEPR"
      },
      "outputs": [],
      "execution_count": null
    },
    {
      "cell_type": "markdown",
      "source": [
        "## Setup Datasets"
      ],
      "metadata": {
        "id": "dNz1n3L8gEPR"
      }
    },
    {
      "cell_type": "code",
      "source": [
        "transform = transforms.Compose([\n",
        "    transforms.Resize((128, 128)),\n",
        "    transforms.ToTensor(),\n",
        "])\n",
        "\n",
        "train_folder = '../input/cards-image-datasetclassification/train/'\n",
        "valid_folder = '../input/cards-image-datasetclassification/valid/'\n",
        "test_folder = '../input/cards-image-datasetclassification/test/'\n",
        "\n",
        "train_dataset = PlayingCardDataset(train_folder, transform=transform)\n",
        "val_dataset = PlayingCardDataset(valid_folder, transform=transform)\n",
        "test_dataset = PlayingCardDataset(test_folder, transform=transform)\n",
        "\n",
        "train_loader = DataLoader(train_dataset, batch_size=32, shuffle=True)\n",
        "val_loader = DataLoader(val_dataset, batch_size=32, shuffle=False)\n",
        "test_loader = DataLoader(val_dataset, batch_size=32, shuffle=False)"
      ],
      "metadata": {
        "execution": {
          "iopub.status.busy": "2023-10-05T20:24:10.308688Z",
          "iopub.execute_input": "2023-10-05T20:24:10.30927Z",
          "iopub.status.idle": "2023-10-05T20:24:10.431868Z",
          "shell.execute_reply.started": "2023-10-05T20:24:10.30924Z",
          "shell.execute_reply": "2023-10-05T20:24:10.431054Z"
        },
        "trusted": true,
        "id": "cizcJpkDgEPR"
      },
      "outputs": [],
      "execution_count": null
    },
    {
      "cell_type": "markdown",
      "source": [
        "## Simple Training Loop"
      ],
      "metadata": {
        "id": "gRlT2gzegEPR"
      }
    },
    {
      "cell_type": "code",
      "source": [
        "# Simple training loop\n",
        "num_epochs = 5\n",
        "train_losses, val_losses = [], []\n",
        "\n",
        "device = torch.device(\"cuda:0\" if torch.cuda.is_available() else \"cpu\")\n",
        "\n",
        "model = SimpleCardClassifer(num_classes=53)\n",
        "model.to(device)\n",
        "\n",
        "criterion = nn.CrossEntropyLoss()\n",
        "optimizer = optim.Adam(model.parameters(), lr=0.001)\n",
        "\n",
        "for epoch in range(num_epochs):\n",
        "    # Training phase\n",
        "    model.train()\n",
        "    running_loss = 0.0\n",
        "    for images, labels in tqdm(train_loader, desc='Training loop'):\n",
        "        # Move inputs and labels to the device\n",
        "        images, labels = images.to(device), labels.to(device)\n",
        "\n",
        "        optimizer.zero_grad()\n",
        "        outputs = model(images)\n",
        "        loss = criterion(outputs, labels)\n",
        "        loss.backward()\n",
        "        optimizer.step()\n",
        "        running_loss += loss.item() * labels.size(0)\n",
        "    train_loss = running_loss / len(train_loader.dataset)\n",
        "    train_losses.append(train_loss)\n",
        "\n",
        "    # Validation phase\n",
        "    model.eval()\n",
        "    running_loss = 0.0\n",
        "    with torch.no_grad():\n",
        "        for images, labels in tqdm(val_loader, desc='Validation loop'):\n",
        "            # Move inputs and labels to the device\n",
        "            images, labels = images.to(device), labels.to(device)\n",
        "\n",
        "            outputs = model(images)\n",
        "            loss = criterion(outputs, labels)\n",
        "            running_loss += loss.item() * labels.size(0)\n",
        "    val_loss = running_loss / len(val_loader.dataset)\n",
        "    val_losses.append(val_loss)\n",
        "    print(f\"Epoch {epoch+1}/{num_epochs} - Train loss: {train_loss}, Validation loss: {val_loss}\")\n"
      ],
      "metadata": {
        "execution": {
          "iopub.status.busy": "2023-10-05T20:24:10.433006Z",
          "iopub.execute_input": "2023-10-05T20:24:10.433488Z"
        },
        "trusted": true,
        "id": "IsTlqMZsgEPR"
      },
      "outputs": [],
      "execution_count": null
    },
    {
      "cell_type": "markdown",
      "source": [
        "# Visualize Losses\n",
        "\n",
        "We can plot our training and validation loss through this training, usually we do this at the end of each epoch. We see that our accuracy on the validation dataset is `x`! There are a LOT more things to learn about that can drastically improve how to train a model which I will cover in future videos, but this should give you a good start!\n",
        "\n"
      ],
      "metadata": {
        "id": "85qJZncNgEPR"
      }
    },
    {
      "cell_type": "code",
      "source": [
        "plt.plot(train_losses, label='Training loss')\n",
        "plt.plot(val_losses, label='Validation loss')\n",
        "plt.legend()\n",
        "plt.title(\"Loss over epochs\")\n",
        "plt.show()"
      ],
      "metadata": {
        "trusted": true,
        "id": "uiiFmyiPgEPR"
      },
      "outputs": [],
      "execution_count": null
    },
    {
      "cell_type": "markdown",
      "source": [
        "# **Bonus:** Evaluating the Results\n",
        "\n"
      ],
      "metadata": {
        "id": "5TBFYAfGgEPR"
      }
    },
    {
      "cell_type": "code",
      "source": [
        "import torch\n",
        "import torchvision.transforms as transforms\n",
        "from PIL import Image\n",
        "import matplotlib.pyplot as plt\n",
        "import numpy as np\n",
        "\n",
        "# Load and preprocess the image\n",
        "def preprocess_image(image_path, transform):\n",
        "    image = Image.open(image_path).convert(\"RGB\")\n",
        "    return image, transform(image).unsqueeze(0)\n",
        "\n",
        "# Predict using the model\n",
        "def predict(model, image_tensor, device):\n",
        "    model.eval()\n",
        "    with torch.no_grad():\n",
        "        image_tensor = image_tensor.to(device)\n",
        "        outputs = model(image_tensor)\n",
        "        probabilities = torch.nn.functional.softmax(outputs, dim=1)\n",
        "    return probabilities.cpu().numpy().flatten()\n",
        "\n",
        "# Visualization\n",
        "def visualize_predictions(original_image, probabilities, class_names):\n",
        "    fig, axarr = plt.subplots(1, 2, figsize=(14, 7))\n",
        "\n",
        "    # Display image\n",
        "    axarr[0].imshow(original_image)\n",
        "    axarr[0].axis(\"off\")\n",
        "\n",
        "    # Display predictions\n",
        "    axarr[1].barh(class_names, probabilities)\n",
        "    axarr[1].set_xlabel(\"Probability\")\n",
        "    axarr[1].set_title(\"Class Predictions\")\n",
        "    axarr[1].set_xlim(0, 1)\n",
        "\n",
        "    plt.tight_layout()\n",
        "    plt.show()\n",
        "\n",
        "# Example usage\n",
        "test_image = \"/kaggle/input/cards-image-datasetclassification/test/five of diamonds/2.jpg\"\n",
        "transform = transforms.Compose([\n",
        "    transforms.Resize((128, 128)),\n",
        "    transforms.ToTensor()\n",
        "])\n",
        "\n",
        "original_image, image_tensor = preprocess_image(test_image, transform)\n",
        "probabilities = predict(model, image_tensor, device)\n",
        "\n",
        "# Assuming dataset.classes gives the class names\n",
        "class_names = dataset.classes\n",
        "visualize_predictions(original_image, probabilities, class_names)"
      ],
      "metadata": {
        "trusted": true,
        "id": "N3qPG6vGgEPR"
      },
      "outputs": [],
      "execution_count": null
    },
    {
      "cell_type": "code",
      "source": [
        "from glob import glob\n",
        "test_images = glob('../input/cards-image-datasetclassification/test/*/*')\n",
        "test_examples = np.random.choice(test_images, 10)\n",
        "\n",
        "for example in test_examples:\n",
        "    original_image, image_tensor = preprocess_image(example, transform)\n",
        "    probabilities = predict(model, image_tensor, device)\n",
        "\n",
        "    # Assuming dataset.classes gives the class names\n",
        "    class_names = dataset.classes\n",
        "    visualize_predictions(original_image, probabilities, class_names)"
      ],
      "metadata": {
        "trusted": true,
        "id": "Q6gdZscVgEPS"
      },
      "outputs": [],
      "execution_count": null
    },
    {
      "cell_type": "markdown",
      "source": [
        "# Todo\n",
        "\n",
        "- Calculate the accuracy of our model on the validation and test set."
      ],
      "metadata": {
        "id": "LPsTOizhgEPS"
      }
    }
  ]
}